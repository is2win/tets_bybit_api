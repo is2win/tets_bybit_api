{
 "cells": [
  {
   "cell_type": "code",
   "id": "initial_id",
   "metadata": {
    "collapsed": true,
    "ExecuteTime": {
     "end_time": "2024-12-07T13:18:57.391117Z",
     "start_time": "2024-12-07T13:18:57.388785Z"
    }
   },
   "source": [
    "from pybit.unified_trading import HTTP\n",
    "from collections import Counter\n",
    "from environs import Env\n",
    "from loguru import logger\n"
   ],
   "outputs": [],
   "execution_count": 4
  },
  {
   "metadata": {
    "ExecuteTime": {
     "end_time": "2024-12-07T13:19:24.635454Z",
     "start_time": "2024-12-07T13:19:24.631873Z"
    }
   },
   "cell_type": "code",
   "source": [
    "env = Env()\n",
    "env.read_env('/Users/romai/is2win_projects/bybit_api_1/.env')\n",
    "# API настройки\n",
    "API_KEY = env(\"API_KEY\")\n",
    "API_SECRET = env(\"API_SECRET\")"
   ],
   "id": "7b9efc34e25035c6",
   "outputs": [],
   "execution_count": 6
  },
  {
   "metadata": {
    "ExecuteTime": {
     "end_time": "2024-12-07T13:19:58.486687Z",
     "start_time": "2024-12-07T13:19:58.484740Z"
    }
   },
   "cell_type": "code",
   "source": [
    "# Создание HTTP-сессии\n",
    "session = HTTP(  # Установите True, если используете тестовую сеть\n",
    "    api_key=API_KEY,\n",
    "    api_secret=API_SECRET\n",
    ")"
   ],
   "id": "462cc105f4d6f3d8",
   "outputs": [],
   "execution_count": 7
  },
  {
   "metadata": {},
   "cell_type": "code",
   "outputs": [],
   "execution_count": null,
   "source": "",
   "id": "85d8e718776786d9"
  }
 ],
 "metadata": {
  "kernelspec": {
   "display_name": "Python 3",
   "language": "python",
   "name": "python3"
  },
  "language_info": {
   "codemirror_mode": {
    "name": "ipython",
    "version": 2
   },
   "file_extension": ".py",
   "mimetype": "text/x-python",
   "name": "python",
   "nbconvert_exporter": "python",
   "pygments_lexer": "ipython2",
   "version": "2.7.6"
  }
 },
 "nbformat": 4,
 "nbformat_minor": 5
}
